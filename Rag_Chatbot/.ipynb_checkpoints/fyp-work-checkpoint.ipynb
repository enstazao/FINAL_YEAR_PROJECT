{
 "cells": [
  {
   "cell_type": "markdown",
   "id": "7318fd76-81fc-418e-ab8a-38630f4c9a19",
   "metadata": {},
   "source": [
    "## Installations"
   ]
  },
  {
   "cell_type": "code",
   "execution_count": 1,
   "id": "84c9a45e-abc8-4434-8184-c2210b4c4e9e",
   "metadata": {},
   "outputs": [
    {
     "name": "stdout",
     "output_type": "stream",
     "text": [
      "Requirement already satisfied: langchain in /home/jadi/anaconda3/envs/fyp-work/lib/python3.11/site-packages (0.1.12)\n",
      "Requirement already satisfied: PyYAML>=5.3 in /home/jadi/anaconda3/envs/fyp-work/lib/python3.11/site-packages (from langchain) (6.0.1)\n",
      "Requirement already satisfied: SQLAlchemy<3,>=1.4 in /home/jadi/anaconda3/envs/fyp-work/lib/python3.11/site-packages (from langchain) (2.0.28)\n",
      "Requirement already satisfied: aiohttp<4.0.0,>=3.8.3 in /home/jadi/anaconda3/envs/fyp-work/lib/python3.11/site-packages (from langchain) (3.9.3)\n",
      "Requirement already satisfied: dataclasses-json<0.7,>=0.5.7 in /home/jadi/anaconda3/envs/fyp-work/lib/python3.11/site-packages (from langchain) (0.6.4)\n",
      "Requirement already satisfied: jsonpatch<2.0,>=1.33 in /home/jadi/anaconda3/envs/fyp-work/lib/python3.11/site-packages (from langchain) (1.33)\n",
      "Requirement already satisfied: langchain-community<0.1,>=0.0.28 in /home/jadi/anaconda3/envs/fyp-work/lib/python3.11/site-packages (from langchain) (0.0.28)\n",
      "Requirement already satisfied: langchain-core<0.2.0,>=0.1.31 in /home/jadi/anaconda3/envs/fyp-work/lib/python3.11/site-packages (from langchain) (0.1.32)\n",
      "Requirement already satisfied: langchain-text-splitters<0.1,>=0.0.1 in /home/jadi/anaconda3/envs/fyp-work/lib/python3.11/site-packages (from langchain) (0.0.1)\n",
      "Requirement already satisfied: langsmith<0.2.0,>=0.1.17 in /home/jadi/anaconda3/envs/fyp-work/lib/python3.11/site-packages (from langchain) (0.1.27)\n",
      "Requirement already satisfied: numpy<2,>=1 in /home/jadi/.local/lib/python3.11/site-packages (from langchain) (1.26.3)\n",
      "Requirement already satisfied: pydantic<3,>=1 in /home/jadi/anaconda3/envs/fyp-work/lib/python3.11/site-packages (from langchain) (2.6.4)\n",
      "Requirement already satisfied: requests<3,>=2 in /home/jadi/anaconda3/envs/fyp-work/lib/python3.11/site-packages (from langchain) (2.31.0)\n",
      "Requirement already satisfied: tenacity<9.0.0,>=8.1.0 in /home/jadi/anaconda3/envs/fyp-work/lib/python3.11/site-packages (from langchain) (8.2.3)\n",
      "Requirement already satisfied: aiosignal>=1.1.2 in /home/jadi/anaconda3/envs/fyp-work/lib/python3.11/site-packages (from aiohttp<4.0.0,>=3.8.3->langchain) (1.3.1)\n",
      "Requirement already satisfied: attrs>=17.3.0 in /home/jadi/anaconda3/envs/fyp-work/lib/python3.11/site-packages (from aiohttp<4.0.0,>=3.8.3->langchain) (23.2.0)\n",
      "Requirement already satisfied: frozenlist>=1.1.1 in /home/jadi/anaconda3/envs/fyp-work/lib/python3.11/site-packages (from aiohttp<4.0.0,>=3.8.3->langchain) (1.4.1)\n",
      "Requirement already satisfied: multidict<7.0,>=4.5 in /home/jadi/anaconda3/envs/fyp-work/lib/python3.11/site-packages (from aiohttp<4.0.0,>=3.8.3->langchain) (6.0.5)\n",
      "Requirement already satisfied: yarl<2.0,>=1.0 in /home/jadi/anaconda3/envs/fyp-work/lib/python3.11/site-packages (from aiohttp<4.0.0,>=3.8.3->langchain) (1.9.4)\n",
      "Requirement already satisfied: marshmallow<4.0.0,>=3.18.0 in /home/jadi/anaconda3/envs/fyp-work/lib/python3.11/site-packages (from dataclasses-json<0.7,>=0.5.7->langchain) (3.21.1)\n",
      "Requirement already satisfied: typing-inspect<1,>=0.4.0 in /home/jadi/anaconda3/envs/fyp-work/lib/python3.11/site-packages (from dataclasses-json<0.7,>=0.5.7->langchain) (0.9.0)\n",
      "Requirement already satisfied: jsonpointer>=1.9 in /home/jadi/anaconda3/envs/fyp-work/lib/python3.11/site-packages (from jsonpatch<2.0,>=1.33->langchain) (2.4)\n",
      "Requirement already satisfied: anyio<5,>=3 in /home/jadi/anaconda3/envs/fyp-work/lib/python3.11/site-packages (from langchain-core<0.2.0,>=0.1.31->langchain) (4.3.0)\n",
      "Requirement already satisfied: packaging<24.0,>=23.2 in /home/jadi/.local/lib/python3.11/site-packages (from langchain-core<0.2.0,>=0.1.31->langchain) (23.2)\n",
      "Requirement already satisfied: orjson<4.0.0,>=3.9.14 in /home/jadi/anaconda3/envs/fyp-work/lib/python3.11/site-packages (from langsmith<0.2.0,>=0.1.17->langchain) (3.9.15)\n",
      "Requirement already satisfied: annotated-types>=0.4.0 in /home/jadi/anaconda3/envs/fyp-work/lib/python3.11/site-packages (from pydantic<3,>=1->langchain) (0.6.0)\n",
      "Requirement already satisfied: pydantic-core==2.16.3 in /home/jadi/anaconda3/envs/fyp-work/lib/python3.11/site-packages (from pydantic<3,>=1->langchain) (2.16.3)\n",
      "Requirement already satisfied: typing-extensions>=4.6.1 in /home/jadi/anaconda3/envs/fyp-work/lib/python3.11/site-packages (from pydantic<3,>=1->langchain) (4.10.0)\n",
      "Requirement already satisfied: charset-normalizer<4,>=2 in /home/jadi/anaconda3/envs/fyp-work/lib/python3.11/site-packages (from requests<3,>=2->langchain) (3.3.2)\n",
      "Requirement already satisfied: idna<4,>=2.5 in /home/jadi/anaconda3/envs/fyp-work/lib/python3.11/site-packages (from requests<3,>=2->langchain) (3.6)\n",
      "Requirement already satisfied: urllib3<3,>=1.21.1 in /home/jadi/anaconda3/envs/fyp-work/lib/python3.11/site-packages (from requests<3,>=2->langchain) (2.2.1)\n",
      "Requirement already satisfied: certifi>=2017.4.17 in /home/jadi/anaconda3/envs/fyp-work/lib/python3.11/site-packages (from requests<3,>=2->langchain) (2024.2.2)\n",
      "Requirement already satisfied: greenlet!=0.4.17 in /home/jadi/anaconda3/envs/fyp-work/lib/python3.11/site-packages (from SQLAlchemy<3,>=1.4->langchain) (3.0.3)\n",
      "Requirement already satisfied: sniffio>=1.1 in /home/jadi/anaconda3/envs/fyp-work/lib/python3.11/site-packages (from anyio<5,>=3->langchain-core<0.2.0,>=0.1.31->langchain) (1.3.1)\n",
      "Requirement already satisfied: mypy-extensions>=0.3.0 in /home/jadi/anaconda3/envs/fyp-work/lib/python3.11/site-packages (from typing-inspect<1,>=0.4.0->dataclasses-json<0.7,>=0.5.7->langchain) (1.0.0)\n",
      "Requirement already satisfied: sentence_transformers in /home/jadi/anaconda3/envs/fyp-work/lib/python3.11/site-packages (2.5.1)\n",
      "Requirement already satisfied: transformers<5.0.0,>=4.32.0 in /home/jadi/anaconda3/envs/fyp-work/lib/python3.11/site-packages (from sentence_transformers) (4.38.2)\n",
      "Requirement already satisfied: tqdm in /home/jadi/anaconda3/envs/fyp-work/lib/python3.11/site-packages (from sentence_transformers) (4.66.2)\n",
      "Requirement already satisfied: torch>=1.11.0 in /home/jadi/anaconda3/envs/fyp-work/lib/python3.11/site-packages (from sentence_transformers) (2.2.1)\n",
      "Requirement already satisfied: numpy in /home/jadi/.local/lib/python3.11/site-packages (from sentence_transformers) (1.26.3)\n",
      "Requirement already satisfied: scikit-learn in /home/jadi/anaconda3/envs/fyp-work/lib/python3.11/site-packages (from sentence_transformers) (1.4.1.post1)\n",
      "Requirement already satisfied: scipy in /home/jadi/anaconda3/envs/fyp-work/lib/python3.11/site-packages (from sentence_transformers) (1.12.0)\n",
      "Requirement already satisfied: huggingface-hub>=0.15.1 in /home/jadi/anaconda3/envs/fyp-work/lib/python3.11/site-packages (from sentence_transformers) (0.21.4)\n",
      "Requirement already satisfied: Pillow in /home/jadi/anaconda3/envs/fyp-work/lib/python3.11/site-packages (from sentence_transformers) (10.2.0)\n",
      "Requirement already satisfied: filelock in /home/jadi/anaconda3/envs/fyp-work/lib/python3.11/site-packages (from huggingface-hub>=0.15.1->sentence_transformers) (3.13.1)\n",
      "Requirement already satisfied: fsspec>=2023.5.0 in /home/jadi/anaconda3/envs/fyp-work/lib/python3.11/site-packages (from huggingface-hub>=0.15.1->sentence_transformers) (2024.3.0)\n",
      "Requirement already satisfied: requests in /home/jadi/anaconda3/envs/fyp-work/lib/python3.11/site-packages (from huggingface-hub>=0.15.1->sentence_transformers) (2.31.0)\n",
      "Requirement already satisfied: pyyaml>=5.1 in /home/jadi/anaconda3/envs/fyp-work/lib/python3.11/site-packages (from huggingface-hub>=0.15.1->sentence_transformers) (6.0.1)\n",
      "Requirement already satisfied: typing-extensions>=3.7.4.3 in /home/jadi/anaconda3/envs/fyp-work/lib/python3.11/site-packages (from huggingface-hub>=0.15.1->sentence_transformers) (4.10.0)\n",
      "Requirement already satisfied: packaging>=20.9 in /home/jadi/.local/lib/python3.11/site-packages (from huggingface-hub>=0.15.1->sentence_transformers) (23.2)\n",
      "Requirement already satisfied: sympy in /home/jadi/anaconda3/envs/fyp-work/lib/python3.11/site-packages (from torch>=1.11.0->sentence_transformers) (1.12)\n",
      "Requirement already satisfied: networkx in /home/jadi/anaconda3/envs/fyp-work/lib/python3.11/site-packages (from torch>=1.11.0->sentence_transformers) (3.2.1)\n",
      "Requirement already satisfied: jinja2 in /home/jadi/anaconda3/envs/fyp-work/lib/python3.11/site-packages (from torch>=1.11.0->sentence_transformers) (3.1.3)\n",
      "Requirement already satisfied: nvidia-cuda-nvrtc-cu12==12.1.105 in /home/jadi/anaconda3/envs/fyp-work/lib/python3.11/site-packages (from torch>=1.11.0->sentence_transformers) (12.1.105)\n",
      "Requirement already satisfied: nvidia-cuda-runtime-cu12==12.1.105 in /home/jadi/anaconda3/envs/fyp-work/lib/python3.11/site-packages (from torch>=1.11.0->sentence_transformers) (12.1.105)\n",
      "Requirement already satisfied: nvidia-cuda-cupti-cu12==12.1.105 in /home/jadi/anaconda3/envs/fyp-work/lib/python3.11/site-packages (from torch>=1.11.0->sentence_transformers) (12.1.105)\n",
      "Requirement already satisfied: nvidia-cudnn-cu12==8.9.2.26 in /home/jadi/anaconda3/envs/fyp-work/lib/python3.11/site-packages (from torch>=1.11.0->sentence_transformers) (8.9.2.26)\n",
      "Requirement already satisfied: nvidia-cublas-cu12==12.1.3.1 in /home/jadi/anaconda3/envs/fyp-work/lib/python3.11/site-packages (from torch>=1.11.0->sentence_transformers) (12.1.3.1)\n",
      "Requirement already satisfied: nvidia-cufft-cu12==11.0.2.54 in /home/jadi/anaconda3/envs/fyp-work/lib/python3.11/site-packages (from torch>=1.11.0->sentence_transformers) (11.0.2.54)\n",
      "Requirement already satisfied: nvidia-curand-cu12==10.3.2.106 in /home/jadi/anaconda3/envs/fyp-work/lib/python3.11/site-packages (from torch>=1.11.0->sentence_transformers) (10.3.2.106)\n",
      "Requirement already satisfied: nvidia-cusolver-cu12==11.4.5.107 in /home/jadi/anaconda3/envs/fyp-work/lib/python3.11/site-packages (from torch>=1.11.0->sentence_transformers) (11.4.5.107)\n",
      "Requirement already satisfied: nvidia-cusparse-cu12==12.1.0.106 in /home/jadi/anaconda3/envs/fyp-work/lib/python3.11/site-packages (from torch>=1.11.0->sentence_transformers) (12.1.0.106)\n",
      "Requirement already satisfied: nvidia-nccl-cu12==2.19.3 in /home/jadi/anaconda3/envs/fyp-work/lib/python3.11/site-packages (from torch>=1.11.0->sentence_transformers) (2.19.3)\n",
      "Requirement already satisfied: nvidia-nvtx-cu12==12.1.105 in /home/jadi/anaconda3/envs/fyp-work/lib/python3.11/site-packages (from torch>=1.11.0->sentence_transformers) (12.1.105)\n",
      "Requirement already satisfied: triton==2.2.0 in /home/jadi/anaconda3/envs/fyp-work/lib/python3.11/site-packages (from torch>=1.11.0->sentence_transformers) (2.2.0)\n",
      "Requirement already satisfied: nvidia-nvjitlink-cu12 in /home/jadi/anaconda3/envs/fyp-work/lib/python3.11/site-packages (from nvidia-cusolver-cu12==11.4.5.107->torch>=1.11.0->sentence_transformers) (12.4.99)\n",
      "Requirement already satisfied: regex!=2019.12.17 in /home/jadi/anaconda3/envs/fyp-work/lib/python3.11/site-packages (from transformers<5.0.0,>=4.32.0->sentence_transformers) (2023.12.25)\n",
      "Requirement already satisfied: tokenizers<0.19,>=0.14 in /home/jadi/anaconda3/envs/fyp-work/lib/python3.11/site-packages (from transformers<5.0.0,>=4.32.0->sentence_transformers) (0.15.2)\n",
      "Requirement already satisfied: safetensors>=0.4.1 in /home/jadi/anaconda3/envs/fyp-work/lib/python3.11/site-packages (from transformers<5.0.0,>=4.32.0->sentence_transformers) (0.4.2)\n",
      "Requirement already satisfied: joblib>=1.2.0 in /home/jadi/anaconda3/envs/fyp-work/lib/python3.11/site-packages (from scikit-learn->sentence_transformers) (1.3.2)\n",
      "Requirement already satisfied: threadpoolctl>=2.0.0 in /home/jadi/anaconda3/envs/fyp-work/lib/python3.11/site-packages (from scikit-learn->sentence_transformers) (3.3.0)\n",
      "Requirement already satisfied: MarkupSafe>=2.0 in /home/jadi/anaconda3/envs/fyp-work/lib/python3.11/site-packages (from jinja2->torch>=1.11.0->sentence_transformers) (2.1.5)\n",
      "Requirement already satisfied: charset-normalizer<4,>=2 in /home/jadi/anaconda3/envs/fyp-work/lib/python3.11/site-packages (from requests->huggingface-hub>=0.15.1->sentence_transformers) (3.3.2)\n",
      "Requirement already satisfied: idna<4,>=2.5 in /home/jadi/anaconda3/envs/fyp-work/lib/python3.11/site-packages (from requests->huggingface-hub>=0.15.1->sentence_transformers) (3.6)\n",
      "Requirement already satisfied: urllib3<3,>=1.21.1 in /home/jadi/anaconda3/envs/fyp-work/lib/python3.11/site-packages (from requests->huggingface-hub>=0.15.1->sentence_transformers) (2.2.1)\n",
      "Requirement already satisfied: certifi>=2017.4.17 in /home/jadi/anaconda3/envs/fyp-work/lib/python3.11/site-packages (from requests->huggingface-hub>=0.15.1->sentence_transformers) (2024.2.2)\n",
      "Requirement already satisfied: mpmath>=0.19 in /home/jadi/anaconda3/envs/fyp-work/lib/python3.11/site-packages (from sympy->torch>=1.11.0->sentence_transformers) (1.3.0)\n",
      "\u001b[31mERROR: Could not find a version that satisfies the requirement faiss-gpu (from versions: none)\u001b[0m\u001b[31m\n",
      "\u001b[0m\u001b[31mERROR: No matching distribution found for faiss-gpu\u001b[0m\u001b[31m\n",
      "\u001b[0mRequirement already satisfied: google-generativeai in /home/jadi/anaconda3/envs/fyp-work/lib/python3.11/site-packages (0.4.1)\n",
      "Requirement already satisfied: google-ai-generativelanguage==0.4.0 in /home/jadi/anaconda3/envs/fyp-work/lib/python3.11/site-packages (from google-generativeai) (0.4.0)\n",
      "Requirement already satisfied: google-auth>=2.15.0 in /home/jadi/anaconda3/envs/fyp-work/lib/python3.11/site-packages (from google-generativeai) (2.28.2)\n",
      "Requirement already satisfied: google-api-core in /home/jadi/anaconda3/envs/fyp-work/lib/python3.11/site-packages (from google-generativeai) (2.17.1)\n",
      "Requirement already satisfied: protobuf in /home/jadi/anaconda3/envs/fyp-work/lib/python3.11/site-packages (from google-generativeai) (4.25.3)\n",
      "Requirement already satisfied: pydantic in /home/jadi/anaconda3/envs/fyp-work/lib/python3.11/site-packages (from google-generativeai) (2.6.4)\n",
      "Requirement already satisfied: tqdm in /home/jadi/anaconda3/envs/fyp-work/lib/python3.11/site-packages (from google-generativeai) (4.66.2)\n",
      "Requirement already satisfied: typing-extensions in /home/jadi/anaconda3/envs/fyp-work/lib/python3.11/site-packages (from google-generativeai) (4.10.0)\n",
      "Requirement already satisfied: proto-plus<2.0.0dev,>=1.22.3 in /home/jadi/anaconda3/envs/fyp-work/lib/python3.11/site-packages (from google-ai-generativelanguage==0.4.0->google-generativeai) (1.23.0)\n",
      "Requirement already satisfied: googleapis-common-protos<2.0.dev0,>=1.56.2 in /home/jadi/anaconda3/envs/fyp-work/lib/python3.11/site-packages (from google-api-core->google-generativeai) (1.63.0)\n",
      "Requirement already satisfied: requests<3.0.0.dev0,>=2.18.0 in /home/jadi/anaconda3/envs/fyp-work/lib/python3.11/site-packages (from google-api-core->google-generativeai) (2.31.0)\n",
      "Requirement already satisfied: cachetools<6.0,>=2.0.0 in /home/jadi/anaconda3/envs/fyp-work/lib/python3.11/site-packages (from google-auth>=2.15.0->google-generativeai) (5.3.3)\n",
      "Requirement already satisfied: pyasn1-modules>=0.2.1 in /home/jadi/anaconda3/envs/fyp-work/lib/python3.11/site-packages (from google-auth>=2.15.0->google-generativeai) (0.3.0)\n",
      "Requirement already satisfied: rsa<5,>=3.1.4 in /home/jadi/anaconda3/envs/fyp-work/lib/python3.11/site-packages (from google-auth>=2.15.0->google-generativeai) (4.9)\n",
      "Requirement already satisfied: annotated-types>=0.4.0 in /home/jadi/anaconda3/envs/fyp-work/lib/python3.11/site-packages (from pydantic->google-generativeai) (0.6.0)\n",
      "Requirement already satisfied: pydantic-core==2.16.3 in /home/jadi/anaconda3/envs/fyp-work/lib/python3.11/site-packages (from pydantic->google-generativeai) (2.16.3)\n",
      "Requirement already satisfied: grpcio<2.0dev,>=1.33.2 in /home/jadi/anaconda3/envs/fyp-work/lib/python3.11/site-packages (from google-api-core[grpc]!=2.0.*,!=2.1.*,!=2.10.*,!=2.2.*,!=2.3.*,!=2.4.*,!=2.5.*,!=2.6.*,!=2.7.*,!=2.8.*,!=2.9.*,<3.0.0dev,>=1.34.0->google-ai-generativelanguage==0.4.0->google-generativeai) (1.62.1)\n",
      "Requirement already satisfied: grpcio-status<2.0.dev0,>=1.33.2 in /home/jadi/anaconda3/envs/fyp-work/lib/python3.11/site-packages (from google-api-core[grpc]!=2.0.*,!=2.1.*,!=2.10.*,!=2.2.*,!=2.3.*,!=2.4.*,!=2.5.*,!=2.6.*,!=2.7.*,!=2.8.*,!=2.9.*,<3.0.0dev,>=1.34.0->google-ai-generativelanguage==0.4.0->google-generativeai) (1.62.1)\n",
      "Requirement already satisfied: pyasn1<0.6.0,>=0.4.6 in /home/jadi/anaconda3/envs/fyp-work/lib/python3.11/site-packages (from pyasn1-modules>=0.2.1->google-auth>=2.15.0->google-generativeai) (0.5.1)\n",
      "Requirement already satisfied: charset-normalizer<4,>=2 in /home/jadi/anaconda3/envs/fyp-work/lib/python3.11/site-packages (from requests<3.0.0.dev0,>=2.18.0->google-api-core->google-generativeai) (3.3.2)\n",
      "Requirement already satisfied: idna<4,>=2.5 in /home/jadi/anaconda3/envs/fyp-work/lib/python3.11/site-packages (from requests<3.0.0.dev0,>=2.18.0->google-api-core->google-generativeai) (3.6)\n",
      "Requirement already satisfied: urllib3<3,>=1.21.1 in /home/jadi/anaconda3/envs/fyp-work/lib/python3.11/site-packages (from requests<3.0.0.dev0,>=2.18.0->google-api-core->google-generativeai) (2.2.1)\n",
      "Requirement already satisfied: certifi>=2017.4.17 in /home/jadi/anaconda3/envs/fyp-work/lib/python3.11/site-packages (from requests<3.0.0.dev0,>=2.18.0->google-api-core->google-generativeai) (2024.2.2)\n",
      "Requirement already satisfied: openai==0.28 in /home/jadi/anaconda3/envs/fyp-work/lib/python3.11/site-packages (0.28.0)\n",
      "Requirement already satisfied: requests>=2.20 in /home/jadi/anaconda3/envs/fyp-work/lib/python3.11/site-packages (from openai==0.28) (2.31.0)\n",
      "Requirement already satisfied: tqdm in /home/jadi/anaconda3/envs/fyp-work/lib/python3.11/site-packages (from openai==0.28) (4.66.2)\n",
      "Requirement already satisfied: aiohttp in /home/jadi/anaconda3/envs/fyp-work/lib/python3.11/site-packages (from openai==0.28) (3.9.3)\n",
      "Requirement already satisfied: charset-normalizer<4,>=2 in /home/jadi/anaconda3/envs/fyp-work/lib/python3.11/site-packages (from requests>=2.20->openai==0.28) (3.3.2)\n",
      "Requirement already satisfied: idna<4,>=2.5 in /home/jadi/anaconda3/envs/fyp-work/lib/python3.11/site-packages (from requests>=2.20->openai==0.28) (3.6)\n",
      "Requirement already satisfied: urllib3<3,>=1.21.1 in /home/jadi/anaconda3/envs/fyp-work/lib/python3.11/site-packages (from requests>=2.20->openai==0.28) (2.2.1)\n",
      "Requirement already satisfied: certifi>=2017.4.17 in /home/jadi/anaconda3/envs/fyp-work/lib/python3.11/site-packages (from requests>=2.20->openai==0.28) (2024.2.2)\n",
      "Requirement already satisfied: aiosignal>=1.1.2 in /home/jadi/anaconda3/envs/fyp-work/lib/python3.11/site-packages (from aiohttp->openai==0.28) (1.3.1)\n",
      "Requirement already satisfied: attrs>=17.3.0 in /home/jadi/anaconda3/envs/fyp-work/lib/python3.11/site-packages (from aiohttp->openai==0.28) (23.2.0)\n",
      "Requirement already satisfied: frozenlist>=1.1.1 in /home/jadi/anaconda3/envs/fyp-work/lib/python3.11/site-packages (from aiohttp->openai==0.28) (1.4.1)\n",
      "Requirement already satisfied: multidict<7.0,>=4.5 in /home/jadi/anaconda3/envs/fyp-work/lib/python3.11/site-packages (from aiohttp->openai==0.28) (6.0.5)\n",
      "Requirement already satisfied: yarl<2.0,>=1.0 in /home/jadi/anaconda3/envs/fyp-work/lib/python3.11/site-packages (from aiohttp->openai==0.28) (1.9.4)\n",
      "Requirement already satisfied: faiss-cpu in /home/jadi/anaconda3/envs/fyp-work/lib/python3.11/site-packages (1.8.0)\n",
      "Requirement already satisfied: numpy in /home/jadi/.local/lib/python3.11/site-packages (from faiss-cpu) (1.26.3)\n",
      "Requirement already satisfied: sentence-transformers in /home/jadi/anaconda3/envs/fyp-work/lib/python3.11/site-packages (2.5.1)\n",
      "Requirement already satisfied: transformers<5.0.0,>=4.32.0 in /home/jadi/anaconda3/envs/fyp-work/lib/python3.11/site-packages (from sentence-transformers) (4.38.2)\n",
      "Requirement already satisfied: tqdm in /home/jadi/anaconda3/envs/fyp-work/lib/python3.11/site-packages (from sentence-transformers) (4.66.2)\n",
      "Requirement already satisfied: torch>=1.11.0 in /home/jadi/anaconda3/envs/fyp-work/lib/python3.11/site-packages (from sentence-transformers) (2.2.1)\n",
      "Requirement already satisfied: numpy in /home/jadi/.local/lib/python3.11/site-packages (from sentence-transformers) (1.26.3)\n",
      "Requirement already satisfied: scikit-learn in /home/jadi/anaconda3/envs/fyp-work/lib/python3.11/site-packages (from sentence-transformers) (1.4.1.post1)\n",
      "Requirement already satisfied: scipy in /home/jadi/anaconda3/envs/fyp-work/lib/python3.11/site-packages (from sentence-transformers) (1.12.0)\n",
      "Requirement already satisfied: huggingface-hub>=0.15.1 in /home/jadi/anaconda3/envs/fyp-work/lib/python3.11/site-packages (from sentence-transformers) (0.21.4)\n",
      "Requirement already satisfied: Pillow in /home/jadi/anaconda3/envs/fyp-work/lib/python3.11/site-packages (from sentence-transformers) (10.2.0)\n",
      "Requirement already satisfied: filelock in /home/jadi/anaconda3/envs/fyp-work/lib/python3.11/site-packages (from huggingface-hub>=0.15.1->sentence-transformers) (3.13.1)\n",
      "Requirement already satisfied: fsspec>=2023.5.0 in /home/jadi/anaconda3/envs/fyp-work/lib/python3.11/site-packages (from huggingface-hub>=0.15.1->sentence-transformers) (2024.3.0)\n",
      "Requirement already satisfied: requests in /home/jadi/anaconda3/envs/fyp-work/lib/python3.11/site-packages (from huggingface-hub>=0.15.1->sentence-transformers) (2.31.0)\n",
      "Requirement already satisfied: pyyaml>=5.1 in /home/jadi/anaconda3/envs/fyp-work/lib/python3.11/site-packages (from huggingface-hub>=0.15.1->sentence-transformers) (6.0.1)\n",
      "Requirement already satisfied: typing-extensions>=3.7.4.3 in /home/jadi/anaconda3/envs/fyp-work/lib/python3.11/site-packages (from huggingface-hub>=0.15.1->sentence-transformers) (4.10.0)\n",
      "Requirement already satisfied: packaging>=20.9 in /home/jadi/.local/lib/python3.11/site-packages (from huggingface-hub>=0.15.1->sentence-transformers) (23.2)\n",
      "Requirement already satisfied: sympy in /home/jadi/anaconda3/envs/fyp-work/lib/python3.11/site-packages (from torch>=1.11.0->sentence-transformers) (1.12)\n",
      "Requirement already satisfied: networkx in /home/jadi/anaconda3/envs/fyp-work/lib/python3.11/site-packages (from torch>=1.11.0->sentence-transformers) (3.2.1)\n",
      "Requirement already satisfied: jinja2 in /home/jadi/anaconda3/envs/fyp-work/lib/python3.11/site-packages (from torch>=1.11.0->sentence-transformers) (3.1.3)\n",
      "Requirement already satisfied: nvidia-cuda-nvrtc-cu12==12.1.105 in /home/jadi/anaconda3/envs/fyp-work/lib/python3.11/site-packages (from torch>=1.11.0->sentence-transformers) (12.1.105)\n",
      "Requirement already satisfied: nvidia-cuda-runtime-cu12==12.1.105 in /home/jadi/anaconda3/envs/fyp-work/lib/python3.11/site-packages (from torch>=1.11.0->sentence-transformers) (12.1.105)\n",
      "Requirement already satisfied: nvidia-cuda-cupti-cu12==12.1.105 in /home/jadi/anaconda3/envs/fyp-work/lib/python3.11/site-packages (from torch>=1.11.0->sentence-transformers) (12.1.105)\n",
      "Requirement already satisfied: nvidia-cudnn-cu12==8.9.2.26 in /home/jadi/anaconda3/envs/fyp-work/lib/python3.11/site-packages (from torch>=1.11.0->sentence-transformers) (8.9.2.26)\n",
      "Requirement already satisfied: nvidia-cublas-cu12==12.1.3.1 in /home/jadi/anaconda3/envs/fyp-work/lib/python3.11/site-packages (from torch>=1.11.0->sentence-transformers) (12.1.3.1)\n",
      "Requirement already satisfied: nvidia-cufft-cu12==11.0.2.54 in /home/jadi/anaconda3/envs/fyp-work/lib/python3.11/site-packages (from torch>=1.11.0->sentence-transformers) (11.0.2.54)\n",
      "Requirement already satisfied: nvidia-curand-cu12==10.3.2.106 in /home/jadi/anaconda3/envs/fyp-work/lib/python3.11/site-packages (from torch>=1.11.0->sentence-transformers) (10.3.2.106)\n",
      "Requirement already satisfied: nvidia-cusolver-cu12==11.4.5.107 in /home/jadi/anaconda3/envs/fyp-work/lib/python3.11/site-packages (from torch>=1.11.0->sentence-transformers) (11.4.5.107)\n",
      "Requirement already satisfied: nvidia-cusparse-cu12==12.1.0.106 in /home/jadi/anaconda3/envs/fyp-work/lib/python3.11/site-packages (from torch>=1.11.0->sentence-transformers) (12.1.0.106)\n",
      "Requirement already satisfied: nvidia-nccl-cu12==2.19.3 in /home/jadi/anaconda3/envs/fyp-work/lib/python3.11/site-packages (from torch>=1.11.0->sentence-transformers) (2.19.3)\n",
      "Requirement already satisfied: nvidia-nvtx-cu12==12.1.105 in /home/jadi/anaconda3/envs/fyp-work/lib/python3.11/site-packages (from torch>=1.11.0->sentence-transformers) (12.1.105)\n",
      "Requirement already satisfied: triton==2.2.0 in /home/jadi/anaconda3/envs/fyp-work/lib/python3.11/site-packages (from torch>=1.11.0->sentence-transformers) (2.2.0)\n",
      "Requirement already satisfied: nvidia-nvjitlink-cu12 in /home/jadi/anaconda3/envs/fyp-work/lib/python3.11/site-packages (from nvidia-cusolver-cu12==11.4.5.107->torch>=1.11.0->sentence-transformers) (12.4.99)\n",
      "Requirement already satisfied: regex!=2019.12.17 in /home/jadi/anaconda3/envs/fyp-work/lib/python3.11/site-packages (from transformers<5.0.0,>=4.32.0->sentence-transformers) (2023.12.25)\n",
      "Requirement already satisfied: tokenizers<0.19,>=0.14 in /home/jadi/anaconda3/envs/fyp-work/lib/python3.11/site-packages (from transformers<5.0.0,>=4.32.0->sentence-transformers) (0.15.2)\n",
      "Requirement already satisfied: safetensors>=0.4.1 in /home/jadi/anaconda3/envs/fyp-work/lib/python3.11/site-packages (from transformers<5.0.0,>=4.32.0->sentence-transformers) (0.4.2)\n",
      "Requirement already satisfied: joblib>=1.2.0 in /home/jadi/anaconda3/envs/fyp-work/lib/python3.11/site-packages (from scikit-learn->sentence-transformers) (1.3.2)\n",
      "Requirement already satisfied: threadpoolctl>=2.0.0 in /home/jadi/anaconda3/envs/fyp-work/lib/python3.11/site-packages (from scikit-learn->sentence-transformers) (3.3.0)\n",
      "Requirement already satisfied: MarkupSafe>=2.0 in /home/jadi/anaconda3/envs/fyp-work/lib/python3.11/site-packages (from jinja2->torch>=1.11.0->sentence-transformers) (2.1.5)\n",
      "Requirement already satisfied: charset-normalizer<4,>=2 in /home/jadi/anaconda3/envs/fyp-work/lib/python3.11/site-packages (from requests->huggingface-hub>=0.15.1->sentence-transformers) (3.3.2)\n",
      "Requirement already satisfied: idna<4,>=2.5 in /home/jadi/anaconda3/envs/fyp-work/lib/python3.11/site-packages (from requests->huggingface-hub>=0.15.1->sentence-transformers) (3.6)\n",
      "Requirement already satisfied: urllib3<3,>=1.21.1 in /home/jadi/anaconda3/envs/fyp-work/lib/python3.11/site-packages (from requests->huggingface-hub>=0.15.1->sentence-transformers) (2.2.1)\n",
      "Requirement already satisfied: certifi>=2017.4.17 in /home/jadi/anaconda3/envs/fyp-work/lib/python3.11/site-packages (from requests->huggingface-hub>=0.15.1->sentence-transformers) (2024.2.2)\n",
      "Requirement already satisfied: mpmath>=0.19 in /home/jadi/anaconda3/envs/fyp-work/lib/python3.11/site-packages (from sympy->torch>=1.11.0->sentence-transformers) (1.3.0)\n"
     ]
    }
   ],
   "source": [
    "!pip install langchain\n",
    "!pip install sentence_transformers\n",
    "!pip install faiss-gpu\n",
    "!pip install google-generativeai\n",
    "!pip install --upgrade --quiet langchain-google-genai\n",
    "!pip install -q -U google-generativeai\n",
    "!pip install openai==0.28\n",
    "!pip install faiss-cpu\n",
    "!pip install sentence-transformers"
   ]
  },
  {
   "cell_type": "code",
   "execution_count": 2,
   "id": "90bcfea4-eff9-4c1b-a635-9b6e11fe5b50",
   "metadata": {
    "tags": []
   },
   "outputs": [
    {
     "name": "stdout",
     "output_type": "stream",
     "text": [
      "Requirement already satisfied: pip in /home/jadi/anaconda3/envs/fyp-work/lib/python3.11/site-packages (23.3.1)\n",
      "Collecting pip\n",
      "  Using cached pip-24.0-py3-none-any.whl.metadata (3.6 kB)\n",
      "Using cached pip-24.0-py3-none-any.whl (2.1 MB)\n",
      "Installing collected packages: pip\n",
      "  Attempting uninstall: pip\n",
      "    Found existing installation: pip 23.3.1\n",
      "    Uninstalling pip-23.3.1:\n",
      "      Successfully uninstalled pip-23.3.1\n",
      "Successfully installed pip-24.0\n",
      "Note: you may need to restart the kernel to use updated packages.\n"
     ]
    }
   ],
   "source": [
    "pip install --upgrade pip"
   ]
  },
  {
   "cell_type": "markdown",
   "id": "4bfb21cf-4207-4bec-93b9-a755169fc5ed",
   "metadata": {},
   "source": [
    "## Importing the packages"
   ]
  },
  {
   "cell_type": "code",
   "execution_count": 1,
   "id": "96078c22-6eed-4bf8-8640-66a3a0bd68aa",
   "metadata": {},
   "outputs": [],
   "source": [
    "from langchain.chains import RetrievalQA\n",
    "from langchain.document_loaders.csv_loader import CSVLoader\n",
    "from langchain.embeddings import HuggingFaceBgeEmbeddings\n",
    "from langchain.vectorstores import FAISS\n",
    "from langchain.prompts import PromptTemplate\n",
    "from langchain.chains import RetrievalQA\n",
    "from langchain.embeddings import HuggingFaceBgeEmbeddings\n",
    "from langchain.llms import OpenAI"
   ]
  },
  {
   "cell_type": "markdown",
   "id": "ac5ea860-ac47-4d3d-8b8e-34be15b5b0ba",
   "metadata": {},
   "source": [
    "## Data Loading"
   ]
  },
  {
   "cell_type": "code",
   "execution_count": 2,
   "id": "6fd73e47-12f5-4451-b9ae-a946076e3aba",
   "metadata": {},
   "outputs": [],
   "source": [
    "\n",
    "\n",
    "loader = CSVLoader(file_path='Dataset/dataset.csv', source_column=\"Question\")\n",
    "data = loader.load()"
   ]
  },
  {
   "cell_type": "markdown",
   "id": "84bfea18-a6eb-421d-a1ee-4be52fbdd37f",
   "metadata": {},
   "source": [
    "## Instructor embeddings\n"
   ]
  },
  {
   "cell_type": "code",
   "execution_count": 3,
   "id": "218de092-504f-4965-837f-ba1e62efe847",
   "metadata": {},
   "outputs": [],
   "source": [
    "\n",
    "\n",
    "instructor_embeddings = HuggingFaceBgeEmbeddings(model_name=\"hkunlp/instructor-large\")\n",
    "\n",
    "e = instructor_embeddings.embed_query(\"Kia German zuban systematic hai?\")"
   ]
  },
  {
   "cell_type": "code",
   "execution_count": 4,
   "id": "737458d4-c024-4e47-8828-94f4e65c4c49",
   "metadata": {},
   "outputs": [
    {
     "data": {
      "text/plain": [
       "768"
      ]
     },
     "execution_count": 4,
     "metadata": {},
     "output_type": "execute_result"
    }
   ],
   "source": [
    "len(e)"
   ]
  },
  {
   "cell_type": "code",
   "execution_count": 5,
   "id": "616951ba-41e7-48d8-b456-e35b23b06710",
   "metadata": {},
   "outputs": [
    {
     "data": {
      "text/plain": [
       "list"
      ]
     },
     "execution_count": 5,
     "metadata": {},
     "output_type": "execute_result"
    }
   ],
   "source": [
    "type(e)"
   ]
  },
  {
   "cell_type": "code",
   "execution_count": 6,
   "id": "19626319-c523-4409-b25c-950baf19ecbb",
   "metadata": {},
   "outputs": [
    {
     "name": "stdout",
     "output_type": "stream",
     "text": [
      "[-0.008809738792479038, -0.008304326795041561, -0.00048444615094922483, 0.018991028890013695, -0.005874128080904484, 0.04169213026762009, -0.0023592321667820215, 0.03036239556968212, -0.05335968732833862, 0.02770894020795822]\n"
     ]
    }
   ],
   "source": [
    "print(e[:10])"
   ]
  },
  {
   "cell_type": "markdown",
   "id": "15338143-0666-48b2-be9b-9bbbdf06e7f5",
   "metadata": {},
   "source": [
    "## FAISS Vector Database"
   ]
  },
  {
   "cell_type": "code",
   "execution_count": 7,
   "id": "76d0dc03-25b1-4a5d-868f-115e32542789",
   "metadata": {},
   "outputs": [],
   "source": [
    "\n",
    "vectordb = FAISS.from_documents(documents=data, embedding=instructor_embeddings)\n",
    "\n",
    "retriever = vectordb.as_retriever()"
   ]
  },
  {
   "cell_type": "code",
   "execution_count": 8,
   "id": "ed87453a-fd0b-4bea-bd23-ea6f2860b16e",
   "metadata": {},
   "outputs": [],
   "source": [
    "question = \"German or english ma kya farq ha?\"\n",
    "rdocs = retriever.get_relevant_documents(question)"
   ]
  },
  {
   "cell_type": "code",
   "execution_count": 9,
   "id": "9d688d95-3272-4a60-8622-4d73515490eb",
   "metadata": {},
   "outputs": [
    {
     "data": {
      "text/plain": [
       "[Document(page_content=\"Question: Kya English or German me saal ka hawala dete hue koi farq hai?\\nAnswer: Haan, English or German me saal ka hawala dete hue kafi farq hai. English me 'in' ka istemal hota hai jabki German me nahi.\", metadata={'source': 'Kya English or German me saal ka hawala dete hue koi farq hai?', 'row': 1737}),\n",
       " Document(page_content='Question: Kia German zuban mein English zuban se koi farq hai?\\nAnswer: Jee han, German zuban English se mukhtalif hai. Kuch basic principles ko samajhna aapke liye helpful ho sakta hai.', metadata={'source': 'Kia German zuban mein English zuban se koi farq hai?', 'row': 2}),\n",
       " Document(page_content='Question: German language ki kaunsi khasiyat ke bare mein bataya gaya hai?\\nAnswer: German language ki khasiyat ye hai ke hum noun ka kirdar uske akhir aur article ke form se jaan sakte hain.', metadata={'source': 'German language ki kaunsi khasiyat ke bare mein bataya gaya hai?', 'row': 36}),\n",
       " Document(page_content='Question: Paragraph ke mutabiq, English aur German mein asal farq kya hai?\\nAnswer: Paragraph ke mutabiq, English aur German mein asal farq yeh hai ke German mein alfaaz, jab wo dosre alfaaz se taluq rakhte hain, to khas akhirat (endings) lete hain.', metadata={'source': 'Paragraph ke mutabiq, English aur German mein asal farq kya hai?', 'row': 20})]"
      ]
     },
     "execution_count": 9,
     "metadata": {},
     "output_type": "execute_result"
    }
   ],
   "source": [
    "rdocs"
   ]
  },
  {
   "cell_type": "markdown",
   "id": "ca099be2-cdcc-4320-957b-5c786b64e5fa",
   "metadata": {},
   "source": [
    "## OPEN AI GPT MODEL "
   ]
  },
  {
   "cell_type": "code",
   "execution_count": 10,
   "id": "3b117848-2a94-46d8-bca3-9234e2368214",
   "metadata": {},
   "outputs": [],
   "source": [
    "import openai\n",
    "\n",
    "# openai.api_key = ''\n",
    "\n",
    "\n",
    "def answer_question_based_on_context(context, question):\n",
    "  response = openai.ChatCompletion.create(\n",
    "      model=\"gpt-3.5-turbo\",\n",
    "      messages=[\n",
    "          {\"role\": \"system\", \"content\": \"\"\"Given the following context and a question, generate an answer based on this context only.\n",
    "In the answer try to provide as much text as possible from \"Answer\" section in the source document context without making much changes.\n",
    "If the answer is not found in the context, kindly state \"I don't know.\" Don't try to make up an answer. First understand the question and then generate the answer kindly.\"\"\"},\n",
    "          {\"role\": \"user\", \"content\": f\"Context: {context}\\nQuestion: {question}\"}\n",
    "      ],\n",
    "      temperature=1,\n",
    "      max_tokens=150,\n",
    "      top_p=1.0,\n",
    "      frequency_penalty=0.0,\n",
    "      presence_penalty=0.0\n",
    "  )\n",
    "  # Extracting the text from the last response in the chat\n",
    "  if response.choices:\n",
    "      last_choice = response.choices[-1]\n",
    "      answer = last_choice.message['content'].strip()\n",
    "      return answer"
   ]
  },
  {
   "cell_type": "markdown",
   "id": "4d61732d-077b-4937-9dd2-268f0cf3e0b4",
   "metadata": {},
   "source": [
    "## Testing"
   ]
  },
  {
   "cell_type": "code",
   "execution_count": 11,
   "id": "3eb4e346-4a70-4a39-bc31-5789503e3676",
   "metadata": {},
   "outputs": [
    {
     "name": "stdout",
     "output_type": "stream",
     "text": [
      "Answer: Paragraph ke mutabiq, jab aap German mein ek naya ism (noun) seekhte hain, to aapko hamesha uske jins (gender) ke sath seekhna chahiye.\n"
     ]
    }
   ],
   "source": [
    "question = \"German mein naye ism (noun) ko kaise seekhna chahiye?\"\n",
    "rdocs = retriever.get_relevant_documents(question)\n",
    "context = str(rdocs[0])\n",
    "answer = answer_question_based_on_context(context, question)\n",
    "print(answer)"
   ]
  },
  {
   "cell_type": "markdown",
   "id": "521eee77-9ae6-4cdc-95b1-c315b97553b0",
   "metadata": {},
   "source": [
    "## Flask Application"
   ]
  },
  {
   "cell_type": "code",
   "execution_count": 13,
   "id": "21202a29-7da6-43b4-bf77-6c42ed5a6645",
   "metadata": {},
   "outputs": [
    {
     "name": "stderr",
     "output_type": "stream",
     "text": [
      "huggingface/tokenizers: The current process just got forked, after parallelism has already been used. Disabling parallelism to avoid deadlocks...\n",
      "To disable this warning, you can either:\n",
      "\t- Avoid using `tokenizers` before the fork if possible\n",
      "\t- Explicitly set the environment variable TOKENIZERS_PARALLELISM=(true | false)\n"
     ]
    },
    {
     "name": "stdout",
     "output_type": "stream",
     "text": [
      "Requirement already satisfied: Flask in /home/jadi/anaconda3/envs/fyp-work/lib/python3.11/site-packages (3.0.2)\n",
      "Requirement already satisfied: Werkzeug>=3.0.0 in /home/jadi/anaconda3/envs/fyp-work/lib/python3.11/site-packages (from Flask) (3.0.1)\n",
      "Requirement already satisfied: Jinja2>=3.1.2 in /home/jadi/anaconda3/envs/fyp-work/lib/python3.11/site-packages (from Flask) (3.1.3)\n",
      "Requirement already satisfied: itsdangerous>=2.1.2 in /home/jadi/anaconda3/envs/fyp-work/lib/python3.11/site-packages (from Flask) (2.1.2)\n",
      "Requirement already satisfied: click>=8.1.3 in /home/jadi/anaconda3/envs/fyp-work/lib/python3.11/site-packages (from Flask) (8.1.7)\n",
      "Requirement already satisfied: blinker>=1.6.2 in /home/jadi/anaconda3/envs/fyp-work/lib/python3.11/site-packages (from Flask) (1.7.0)\n",
      "Requirement already satisfied: MarkupSafe>=2.0 in /home/jadi/anaconda3/envs/fyp-work/lib/python3.11/site-packages (from Jinja2>=3.1.2->Flask) (2.1.5)\n",
      "Note: you may need to restart the kernel to use updated packages.\n"
     ]
    }
   ],
   "source": [
    "pip install Flask"
   ]
  },
  {
   "cell_type": "code",
   "execution_count": 14,
   "id": "7eec425c-12b8-4fca-9055-dcc7e38efdcd",
   "metadata": {},
   "outputs": [
    {
     "name": "stdout",
     "output_type": "stream",
     "text": [
      " * Serving Flask app '__main__'\n",
      " * Debug mode: on\n"
     ]
    },
    {
     "name": "stderr",
     "output_type": "stream",
     "text": [
      "\u001b[31m\u001b[1mWARNING: This is a development server. Do not use it in a production deployment. Use a production WSGI server instead.\u001b[0m\n",
      " * Running on http://127.0.0.1:5005\n",
      "\u001b[33mPress CTRL+C to quit\u001b[0m\n",
      " * Restarting with stat\n",
      "0.00s - Debugger warning: It seems that frozen modules are being used, which may\n",
      "0.00s - make the debugger miss breakpoints. Please pass -Xfrozen_modules=off\n",
      "0.00s - to python to disable frozen modules.\n",
      "0.00s - Note: Debugging will proceed. Set PYDEVD_DISABLE_FILE_VALIDATION=1 to disable this validation.\n",
      "Traceback (most recent call last):\n",
      "  File \"<frozen runpy>\", line 198, in _run_module_as_main\n",
      "  File \"<frozen runpy>\", line 88, in _run_code\n",
      "  File \"/home/jadi/anaconda3/envs/fyp-work/lib/python3.11/site-packages/ipykernel_launcher.py\", line 18, in <module>\n",
      "    app.launch_new_instance()\n",
      "  File \"/home/jadi/anaconda3/envs/fyp-work/lib/python3.11/site-packages/traitlets/config/application.py\", line 1074, in launch_instance\n",
      "    app.initialize(argv)\n",
      "  File \"/home/jadi/anaconda3/envs/fyp-work/lib/python3.11/site-packages/traitlets/config/application.py\", line 118, in inner\n",
      "    return method(app, *args, **kwargs)\n",
      "           ^^^^^^^^^^^^^^^^^^^^^^^^^^^^\n",
      "  File \"/home/jadi/anaconda3/envs/fyp-work/lib/python3.11/site-packages/ipykernel/kernelapp.py\", line 692, in initialize\n",
      "    self.init_sockets()\n",
      "  File \"/home/jadi/anaconda3/envs/fyp-work/lib/python3.11/site-packages/ipykernel/kernelapp.py\", line 331, in init_sockets\n",
      "    self.shell_port = self._bind_socket(self.shell_socket, self.shell_port)\n",
      "                      ^^^^^^^^^^^^^^^^^^^^^^^^^^^^^^^^^^^^^^^^^^^^^^^^^^^^^\n",
      "  File \"/home/jadi/anaconda3/envs/fyp-work/lib/python3.11/site-packages/ipykernel/kernelapp.py\", line 253, in _bind_socket\n",
      "    return self._try_bind_socket(s, port)\n",
      "           ^^^^^^^^^^^^^^^^^^^^^^^^^^^^^^\n",
      "  File \"/home/jadi/anaconda3/envs/fyp-work/lib/python3.11/site-packages/ipykernel/kernelapp.py\", line 229, in _try_bind_socket\n",
      "    s.bind(\"tcp://%s:%i\" % (self.ip, port))\n",
      "  File \"/home/jadi/anaconda3/envs/fyp-work/lib/python3.11/site-packages/zmq/sugar/socket.py\", line 302, in bind\n",
      "    super().bind(addr)\n",
      "  File \"zmq/backend/cython/socket.pyx\", line 564, in zmq.backend.cython.socket.Socket.bind\n",
      "  File \"zmq/backend/cython/checkrc.pxd\", line 28, in zmq.backend.cython.checkrc._check_rc\n",
      "zmq.error.ZMQError: Address already in use (addr='tcp://127.0.0.1:39051')\n"
     ]
    },
    {
     "ename": "SystemExit",
     "evalue": "1",
     "output_type": "error",
     "traceback": [
      "An exception has occurred, use %tb to see the full traceback.\n",
      "\u001b[0;31mSystemExit\u001b[0m\u001b[0;31m:\u001b[0m 1\n"
     ]
    },
    {
     "name": "stderr",
     "output_type": "stream",
     "text": [
      "/home/jadi/anaconda3/envs/fyp-work/lib/python3.11/site-packages/IPython/core/interactiveshell.py:3585: UserWarning: To exit: use 'exit', 'quit', or Ctrl-D.\n",
      "  warn(\"To exit: use 'exit', 'quit', or Ctrl-D.\", stacklevel=1)\n"
     ]
    }
   ],
   "source": [
    "from flask import Flask, request, jsonify\n",
    "import openai\n",
    "\n",
    "app = Flask(__name__)\n",
    "\n",
    "# openai.api_key = 'YOUR_API_KEY_HERE'\n",
    "\n",
    "@app.route('/answer', methods=['POST'])\n",
    "def answer_question_based_on_context():\n",
    "    data = request.json  # Assumes the question is sent as JSON\n",
    "    context = data.get('context')\n",
    "    question = data.get('question')\n",
    "    \n",
    "    if not context or not question:\n",
    "        return jsonify({\"error\": \"Missing context or question\"}), 400\n",
    "\n",
    "    try:\n",
    "        response = openai.ChatCompletion.create(\n",
    "            model=\"gpt-3.5-turbo\",\n",
    "            messages=[\n",
    "                {\"role\": \"system\", \"content\": \"\"\"Given the following context and a question, generate an answer based on this context only. In the answer try to provide as much text as possible from \"Answer\" section in the source document context without making much changes. If the answer is not found in the context, kindly state \"I don't know.\" Don't try to make up an answer. First understand the question and then generate the answer kindly.\"\"\"},\n",
    "                {\"role\": \"user\", \"content\": f\"Context: {context}\\nQuestion: {question}\"}\n",
    "            ],\n",
    "            temperature=1,\n",
    "            max_tokens=150,\n",
    "            top_p=1.0,\n",
    "            frequency_penalty=0.0,\n",
    "            presence_penalty=0.0\n",
    "        )\n",
    "\n",
    "        if response.choices:\n",
    "            last_choice = response.choices[-1]\n",
    "            answer = last_choice.message['content'].strip()\n",
    "            return jsonify({\"answer\": answer})\n",
    "\n",
    "    except Exception as e:\n",
    "        return jsonify({\"error\": str(e)}), 500\n",
    "\n",
    "    return jsonify({\"error\": \"Failed to generate an answer\"}), 500\n",
    "\n",
    "if __name__ == '__main__':\n",
    "    app.run(debug=True, port=5005)  # Turn off debug mode in production\n"
   ]
  },
  {
   "cell_type": "code",
   "execution_count": 1,
   "id": "20b32bde-d029-41bf-af03-2b862da64806",
   "metadata": {},
   "outputs": [],
   "source": [
    "## Testing"
   ]
  },
  {
   "cell_type": "code",
   "execution_count": 15,
   "id": "5e4ad7bf-b46d-46da-bd69-28f599bc2ab2",
   "metadata": {},
   "outputs": [
    {
     "name": "stdout",
     "output_type": "stream",
     "text": [
      "Jee han, German zuban systematic hai aur rules ko follow karti hai. Answer: Jee han, German zuban systematic hai aur rules ko follow karti hai.\n",
      "Agar aap German zuban ko step by step samajhte hain to yeh aap soch rahe hain se ziada asan ho sakti hai. I don't know.\n",
      "German mein umlauts ka istemal lafz ki talaffuz aur ma'ani dono ko badal deta hai. Answer: German mein umlauts ka istemal lafz ki talaffuz aur ma'ani dono ko badal deta hai.\n",
      "Verb ki misalein hain: 'Wo gussa hai', 'Wo wahan rehti hai', 'Wo mujhse mohabbat karte hain.' Answer: Verb ki misalein hain: 'Wo gussa hai', 'Wo wahan rehti hai', 'Wo mujhse mohabbat karte hain.'\n",
      "English mein, verbs ko sirf mojooda zamane mein teesray shakhs ki wahid form ke siwa kisi bhi form mein nahin rakha jata. Answer: English mein, verbs ko sirf mojooda zamane mein teesray shakhs ki wahid form ke siwa kisi bhi form mein nahin rakha jata.\n",
      "Accuracy: 0.0\n"
     ]
    }
   ],
   "source": [
    "tests = [\n",
    "    {\n",
    "    \"question\": \"kia german zuban systematic hai?\",\n",
    "    \"answer\": \"Jee han, German zuban systematic hai aur rules ko follow karti hai.\"\n",
    "    },\n",
    "    {\n",
    "        \"question\": \"German zuban Samajhna mushkil ha?\",\n",
    "        \"answer\": \"Agar aap German zuban ko step by step samajhte hain to yeh aap soch rahe hain se ziada asan ho sakti hai.\"\n",
    ",   },\n",
    "    {\n",
    "        \"question\": \"German mein umlauts ka istemal lafz ki ma'ani ko kaise badal deta hai?\",\n",
    "        \"answer\": \"German mein umlauts ka istemal lafz ki talaffuz aur ma'ani dono ko badal deta hai.\"\n",
    "    },\n",
    "    {\n",
    "        \"question\": \"Verb ki koi misalein btaoo\",\n",
    "        \"answer\": \"Verb ki misalein hain: 'Wo gussa hai', 'Wo wahan rehti hai', 'Wo mujhse mohabbat karte hain.'\"\n",
    "    },\n",
    "    {\n",
    "        \"question\": \"Kaise verbs ko English mein rakha jata hai?\",\n",
    "        \"answer\": \"English mein, verbs ko sirf mojooda zamane mein teesray shakhs ki wahid form ke siwa kisi bhi form mein nahin rakha jata.\"\n",
    "    },\n",
    "]\n",
    "\n",
    "# Function to calculate accuracy based on correct answers\n",
    "def calculate_accuracy(tests):\n",
    "    total_correct = 0\n",
    "    total_tests = len(tests)\n",
    "\n",
    "    for test in tests:\n",
    "        # question = \"German mein naye ism (noun) ko kaise seekhna chahiye?\"\n",
    "        question = test[\"question\"]\n",
    "        rdocs = retriever.get_relevant_documents(question)\n",
    "        context = str(rdocs[0])\n",
    "        \n",
    "        expected_answer = test[\"answer\"]\n",
    "        generated_answer = answer_question_based_on_context(context, question)\n",
    "        print(expected_answer, generated_answer)\n",
    "        if generated_answer == expected_answer:\n",
    "            total_correct += 1\n",
    "\n",
    "    accuracy = total_correct / total_tests\n",
    "    return accuracy\n",
    "\n",
    "# Calculate and print accuracy\n",
    "accuracy = calculate_accuracy(tests)\n",
    "print(\"Accuracy:\", accuracy)\n",
    "\n"
   ]
  },
  {
   "cell_type": "code",
   "execution_count": null,
   "id": "2e463e61-c468-432a-b478-de577985edf9",
   "metadata": {},
   "outputs": [],
   "source": []
  }
 ],
 "metadata": {
  "kernelspec": {
   "display_name": "Python 3 (ipykernel)",
   "language": "python",
   "name": "python3"
  },
  "language_info": {
   "codemirror_mode": {
    "name": "ipython",
    "version": 3
   },
   "file_extension": ".py",
   "mimetype": "text/x-python",
   "name": "python",
   "nbconvert_exporter": "python",
   "pygments_lexer": "ipython3",
   "version": "3.11.8"
  }
 },
 "nbformat": 4,
 "nbformat_minor": 5
}
